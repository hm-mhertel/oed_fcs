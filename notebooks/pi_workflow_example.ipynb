{
 "cells": [
  {
   "cell_type": "markdown",
   "id": "04548a9a",
   "metadata": {},
   "source": [
    "# pi-OED "
   ]
  },
  {
   "cell_type": "markdown",
   "id": "4b95c2c1",
   "metadata": {},
   "source": [
    "This Jupyter Notebook is considered an integral part of the Journal paper \"Parameter Individual Optimal Experimental Design and Calibration of Parametric Models\" as submitted to IEEEAccess on July 19th 2022. (Doi: xxx) This work has been submitted to the IEEE for possible publication. Copyright may be transferred without notice, after which this version may no longer be accessible."
   ]
  },
  {
   "cell_type": "markdown",
   "id": "a2176a29",
   "metadata": {},
   "source": [
    "# Abstract"
   ]
  },
  {
   "cell_type": "markdown",
   "id": "0b6438c6",
   "metadata": {},
   "source": [
    "Parametric models allow to reflect system behavior in general and characterize individual system instances by specific parameter values. For a variety of scientific disciplines, model calibration by parameter quantification is therefore of central importance. As the time and cost of calibration experiments increases, the question of how to determine parameter values of required quality with a minimum number of experiments comes to the fore.\n",
    "In this paper, a methodology is introduced allowing to quantify and optimize achievable parameter extraction quality based on an experimental plan including a process and methods how to adapt the experimental plan for improved estimation of individually selectable parameters. The resulting parameter-individual optimal design of experiments (pi-OED) enables experimenters to extract a maximum of parameter-specific information from a given number of experiments. We demonstrate how to minimize variance or covariances of individually selectable parameter estimators by model-based calculation of the experimental designs. Using the Fisher Information Matrix in combination with the Cramer-Raó inequality, the pi-OED plan is reduced to a global optimization problem. \n",
    "The pi-OED workflow is demonstrated using computer experiments to calibrate a model describing calendrical aging of lithium-ion battery cells. Applying bootstrapping methods allows to also quantify parameter estimation distributions for further benchmarking. Comparing pi-OED based computer experimental results with those based on state-of-the-art designs of experiments, reveals its efficiency improvement.\n",
    "\n",
    "All computer experimental results are gained in Python and may be reproduced using this Jupyter Notebook along with the source code."
   ]
  },
  {
   "cell_type": "markdown",
   "id": "1971a2a2",
   "metadata": {},
   "source": [
    "![pi-OED workflow](pi_oed_lower_level.svg)"
   ]
  },
  {
   "cell_type": "markdown",
   "id": "ef79c00f",
   "metadata": {},
   "source": [
    "---"
   ]
  },
  {
   "cell_type": "markdown",
   "id": "a7b932fd",
   "metadata": {},
   "source": [
    "# Workflow with results and statistics"
   ]
  },
  {
   "cell_type": "code",
   "execution_count": null,
   "id": "751c344d",
   "metadata": {
    "ExecuteTime": {
     "end_time": "2022-07-21T16:17:15.748286Z",
     "start_time": "2022-07-21T16:17:14.778041Z"
    }
   },
   "outputs": [],
   "source": [
    "import os\n",
    "os.chdir('../')\n",
    "\n",
    "from src.oed.minimizer.minimizer_library.differential_evolution import DifferentialEvolution\n",
    "import numpy as np\n",
    "import pandas as pd"
   ]
  },
  {
   "cell_type": "markdown",
   "id": "330b86af",
   "metadata": {},
   "source": [
    "Capacity fade due to battery storage and operation, is often used as an indicator for the degradation of lithium-ion batteries. \n",
    "The usual approach of considering calendrical and cyclical aging as linearly independent influences on the capacity loss leads to the following general model structure:\n",
    "$$Q_{loss} = Q_{loss}^{cal} + Q_{loss}^{cyc}$$\n",
    "\n",
    "where $Q_{loss}$ defines the total capacity loss of the battery compared to its initial value, while $Q_{loss}^{cal}$ and $Q_{loss}^{cyc}$ denote the aging contribution of calendrical and cyclic aging, respectively.\n",
    "This model allows to divide the characterization of aging into two independent experimental studies. For our example, we focus exclusively on the calendrical aging part of the model with $Q_{loss}^{cal}$ as proposed by Muehlbauer et al.:\n",
    "\n",
    "$$Q_{loss}^{cal}\\ (SoC,T,t) =  x_{ref}* d_{SoC}^{cal}\\ (SoC) * d_{T}^{cal}\\ (T) * t^{z_{cal}},$$\n",
    "\n",
    "\n",
    "\n",
    "$$d_{SoC}^{cal} = \\Bigg(\\frac{SoC}{SoC_{ref}}\\Bigg)^{\\frac{1}{\\gamma_{SoC}^{cal}}}$$\n",
    "\n",
    "$$d_{T}^{cal} = e^{-\\gamma_T^{cal}*\\big(\\frac{1}{T} - \\frac{1}{T_{ref}}\\big)}$$\n",
    "\n",
    "$$x_{ref} = \\Bigg(\\frac{1-EOL_C}{(t_{end})^{z_{cal}}}\\Bigg) $$ \n",
    "\n",
    "where the ambient storage temperature $T$, the storage state of charge $SoC$ and the storage time $t$ represent the independent variables of the model. \n",
    "$SoC_{ref}$ and $T_{ref}$ define reference values of $SoC$ and ambient temperature, respectively. $EOL_C$ defines the End of life (EOL) capacity of a battery cell that in our example is defined by a value of $EOL_C = 90\\%$, reached, when a cell is stored at $SoC_{ref} = 50\\%$ and $T_{ref}=296.15K$ for $t_{end} = 520$ days. Based on the above given model, the experimenter strives to quantify the models' parameters:  \n",
    "\n",
    "$$\\theta = (\\theta_0, \\theta_1, \\theta_2) = (\\gamma_{SoC}^{cal}, \\gamma_T^{cal}, z_{cal})$$\n",
    "\n",
    "\n",
    "The parameter values $\\theta_i$ with $i=0,1,2$ shall be identified on the basis of experiments.\n",
    "Following the pi-OED workflow, we will simulate computer experimental results instead of performing real experiments. This enables us to quantify means and variances of experimental results (by bootstrapping) and comparing those results to theoretical predictions.\n",
    "\n",
    "\n",
    "The parametric model according to the above equations represents the family of models\n",
    "\n",
    "$$f_{\\theta} = Q_{loss}^{cal}$$\n",
    "\n",
    "for the pi-OED workflow demonstration.\n",
    "Temperature (T) ranges from $T_l=279.15K$ to $T_u=333.15K$. \n",
    "State of charge (SoC) ranges from $SoC_l=0.05$ to $SoC_u=1$.\n",
    "Unless otherwise specified, time (t) and temperatures (T) are positive real number measured in days or Kelvin, respectively. \n",
    "\n",
    "An experimental design is characterized by temperature $T$ and state of charge $SoC$. \n",
    "The design space is, therefore, given by the cross product of intervals \n",
    "\n",
    "$$X=(SoC_l,SoC_u)\\times (T_l,T_u).$$\n",
    "\n",
    "For each experimental design, we conduct measurements at $t_0=7, t_1=35, t_2=63, t_3=119, t_4=175$ and $t_5=231$ of days after initialization of the batteries. \n",
    "Accordingly, conducting an experimental design results in a vector  $y\\in \\mathbb{R}^6$.\n",
    "\n",
    "\n",
    "Based on prior knowledge, the parameter space is estimated by \n",
    "\n",
    "$$\\Theta=(0.1,10)\\times(0,10000)\\times (0,1).$$\n",
    "\n",
    "In mathematical terms, we consider the parametric function\n",
    "\n",
    "$$f_\\theta:(T_l,T_u)\\times(SoC_l,SoC_u)\\times\\mathbb{R}_+\\to [0,1]$$ with $\\theta\\in \\Theta$.\n",
    "\n",
    "The measurement errors of conducting single experimental designs are assumed independent and identical normally distributed (iid) with zero mean and standard deviation $\\sigma=0.002$. Accordingly, conducting $n$ experimental designs results in a multivariate normal distribution with covariance matrix $\\sigma^2\\mathbb{1}_n$.\n",
    "\n",
    "\n",
    "In our example we define the \\textit{true} (and for the experimenter a priori unknown) model parameter\n",
    "\n",
    "$$\\theta_{true}=(4,2300,0.8).$$ \n",
    "\n",
    "Conducting an experimental design $x=(SoC,T)$ yields the result vector \n",
    "\n",
    "$$(f_{\\theta_0}(SoC,T,t_0),...,f_{\\theta_0}(SoC,T,t_5))\\in \\mathbb{R}^6$$ \n",
    "\n",
    "superimposed by a random error distributed according to $\\mathcal{N}(0,\\sigma^2\\mathbb{1}_6)$.\n",
    "The reader is encouraged to validate the results with different parameter $\\theta_{true}$.\n",
    "\n",
    "In the following, optimization tasks are solved by the differential evolution global optimization algorithm with maxiter 1000 and tolerance 1e-5. "
   ]
  },
  {
   "cell_type": "code",
   "execution_count": null,
   "id": "e9a66038",
   "metadata": {
    "ExecuteTime": {
     "end_time": "2022-07-21T16:17:15.751810Z",
     "start_time": "2022-07-21T16:17:15.750217Z"
    }
   },
   "outputs": [],
   "source": [
    "minimizer = DifferentialEvolution()"
   ]
  },
  {
   "cell_type": "markdown",
   "id": "da676e88",
   "metadata": {},
   "source": [
    "## A priori model definition"
   ]
  },
  {
   "cell_type": "markdown",
   "id": "a6915424",
   "metadata": {},
   "source": [
    "According to the above experimental setup, given an experiment $\\xi=(x_1,...,x_k)$ with experimental designs $$x_i=(SoC_i,T_i)\\in X,$$ we obtain the statistical model \n",
    "$$((\\mathbb{R}^6)^k,\\mathcal{B}^{6k},\\mathcal{N}((f_\\theta(T_i,SoC_i,t_i)_{i=1,...,6k},\\sigma^2\\mathbb{1}_{6k})):\\theta\\in \\Theta)$$\n",
    "with parameter space $$\\Theta=(0.1,10)\\times(0,10000)\\times (0,1)$$ at (simulated) measurement times $t_i$ accordingly.\n",
    "Observe that all statistical models inherit the same parameter space $\\Theta$. Experimentally determining the (global) parameter $\\theta$ calibrates the aging model $f_\\theta$."
   ]
  },
  {
   "cell_type": "code",
   "execution_count": null,
   "id": "87fbf08b",
   "metadata": {
    "ExecuteTime": {
     "end_time": "2022-07-21T16:17:15.770705Z",
     "start_time": "2022-07-21T16:17:15.752578Z"
    }
   },
   "outputs": [],
   "source": [
    "from oed.statistical_models.statistical_model_library import GaussianNoiseModel\n",
    "from oed.parametric_function_library import AgingModel"
   ]
  },
  {
   "cell_type": "code",
   "execution_count": null,
   "id": "ab09eb17",
   "metadata": {
    "ExecuteTime": {
     "end_time": "2022-07-21T16:17:15.773418Z",
     "start_time": "2022-07-21T16:17:15.771561Z"
    }
   },
   "outputs": [],
   "source": [
    "sigma = 0.002\n",
    "\n",
    "theta = np.array([4, 2300, 0.8])"
   ]
  },
  {
   "cell_type": "code",
   "execution_count": null,
   "id": "2114c82a",
   "metadata": {
    "ExecuteTime": {
     "end_time": "2022-07-21T16:17:15.776768Z",
     "start_time": "2022-07-21T16:17:15.774405Z"
    }
   },
   "outputs": [],
   "source": [
    "lower_bounds_x = np.array([0.05, 279.15])\n",
    "upper_bounds_x = np.array([1, 333.15])\n",
    "\n",
    "lower_bounds_theta = np.array([0.01, 0, 0])\n",
    "upper_bounds_theta = np.array([10, 10000, 1])"
   ]
  },
  {
   "cell_type": "code",
   "execution_count": null,
   "id": "c4dfeb2f",
   "metadata": {
    "ExecuteTime": {
     "end_time": "2022-07-21T16:17:15.779543Z",
     "start_time": "2022-07-21T16:17:15.777680Z"
    }
   },
   "outputs": [],
   "source": [
    "parametric_function = AgingModel()\n",
    "\n",
    "\n",
    "def blackbox_model(x):\n",
    "    return statistical_model.random(theta=theta, x=x)"
   ]
  },
  {
   "cell_type": "code",
   "execution_count": null,
   "id": "16f0e8a5",
   "metadata": {
    "ExecuteTime": {
     "end_time": "2022-07-21T16:17:15.782340Z",
     "start_time": "2022-07-21T16:17:15.780387Z"
    }
   },
   "outputs": [],
   "source": [
    "statistical_model = GaussianNoiseModel(function=parametric_function,\n",
    "                                       lower_bounds_x=lower_bounds_x,\n",
    "                                       upper_bounds_x=upper_bounds_x,\n",
    "                                       lower_bounds_theta=lower_bounds_theta,\n",
    "                                       upper_bounds_theta=upper_bounds_theta,\n",
    "                                       sigma=sigma)"
   ]
  },
  {
   "cell_type": "markdown",
   "id": "67ceb693",
   "metadata": {},
   "source": [
    "## Initial design of experiment"
   ]
  },
  {
   "cell_type": "code",
   "execution_count": null,
   "id": "d48e56a1",
   "metadata": {
    "ExecuteTime": {
     "end_time": "2022-07-21T16:17:15.915540Z",
     "start_time": "2022-07-21T16:17:15.783352Z"
    }
   },
   "outputs": [],
   "source": [
    "from oed.experiments.experiment_library.latin_hypercube import LatinHypercube\n",
    "from src.oed.visualization.plotting_functions import *"
   ]
  },
  {
   "cell_type": "markdown",
   "id": "371ba9b2",
   "metadata": {},
   "source": [
    "Initially, we assume no prior knowledge about the value of model parameter $\\theta$ to exist and an ability to conduct an experiment consisting of $k=5$ experimental designs."
   ]
  },
  {
   "cell_type": "code",
   "execution_count": null,
   "id": "43a71bd9",
   "metadata": {
    "ExecuteTime": {
     "end_time": "2022-07-21T16:17:15.918600Z",
     "start_time": "2022-07-21T16:17:15.916597Z"
    }
   },
   "outputs": [],
   "source": [
    "number_designs = 5"
   ]
  },
  {
   "cell_type": "markdown",
   "id": "c9454505",
   "metadata": {},
   "source": [
    "Therefore, the initial experiment is designed by the Latin Hypercube (LH) approach with five samples out of $X$ resulting in the experiment \n",
    "\n",
    "$$\\xi_{LH}=((T_1,SoC_1),...,(T_{5},SoC_{5})).$$"
   ]
  },
  {
   "cell_type": "code",
   "execution_count": null,
   "id": "941da9f2",
   "metadata": {
    "ExecuteTime": {
     "end_time": "2022-07-21T16:17:15.921910Z",
     "start_time": "2022-07-21T16:17:15.919398Z"
    }
   },
   "outputs": [],
   "source": [
    "LH = LatinHypercube(lower_bounds_design=lower_bounds_x,\n",
    "                    upper_bounds_design=upper_bounds_x,\n",
    "                    number_designs=number_designs)"
   ]
  },
  {
   "cell_type": "markdown",
   "id": "c1553177",
   "metadata": {},
   "source": [
    "The below figure indicates the calculated LH experiment with each blue dot representing an individual experimental design."
   ]
  },
  {
   "cell_type": "code",
   "execution_count": null,
   "id": "bae86841",
   "metadata": {
    "ExecuteTime": {
     "end_time": "2022-07-21T16:17:16.094543Z",
     "start_time": "2022-07-21T16:17:15.925252Z"
    }
   },
   "outputs": [],
   "source": [
    "data = [\n",
    "    dot_scatter(x_dots=LH.experiment.T[0] * 100, y_dots=LH.experiment.T[1], fill=None)\n",
    "]\n",
    "\n",
    "fig0 = styled_figure(title=LH.name,\n",
    "                     data=data,\n",
    "                     title_x=\"State of charge [%]\",\n",
    "                     title_y=\"Temperature [K]\")\n",
    "fig0"
   ]
  },
  {
   "cell_type": "markdown",
   "id": "ad4fe088",
   "metadata": {},
   "source": [
    "## Conduct experiments"
   ]
  },
  {
   "cell_type": "code",
   "execution_count": null,
   "id": "1a0755a4",
   "metadata": {
    "ExecuteTime": {
     "end_time": "2022-07-21T16:17:16.102617Z",
     "start_time": "2022-07-21T16:17:16.095538Z"
    }
   },
   "outputs": [],
   "source": "from src.oed.benchmarking.benchmarking import Benchmarking"
  },
  {
   "cell_type": "markdown",
   "id": "76fdcb32",
   "metadata": {},
   "source": [
    "We conduct the Latin Hypercube experiment $\\xi_{LH}.$\n",
    "This results in $30$ experimental data points $y_{i,j}$ based on measurements for $i=1,...,5$ experimental designs measured at $j=0,...,5$ points in time. "
   ]
  },
  {
   "cell_type": "code",
   "execution_count": null,
   "id": "0e1d6b78",
   "metadata": {
    "ExecuteTime": {
     "end_time": "2022-07-21T16:17:16.105581Z",
     "start_time": "2022-07-21T16:17:16.103464Z"
    }
   },
   "outputs": [],
   "source": [
    "evaluation_initial_design = np.array([blackbox_model(x) for x in LH.experiment])"
   ]
  },
  {
   "cell_type": "markdown",
   "id": "3768233d",
   "metadata": {},
   "source": [
    "## Model Calibration"
   ]
  },
  {
   "cell_type": "markdown",
   "id": "6fc62b97",
   "metadata": {},
   "source": [
    "The statistical model joining all experiments is given by\n",
    "\n",
    "$$(\\mathbb{R}^{30},\\mathcal{B}^{30},\\mathcal{N}((f_\\theta(T_i,SoC_i,t_j)_{i=1,...,5,j=0,...,5},\\sigma^2\\mathbb{1}_{30})).$$\n",
    "\n",
    "The closure of $\\Theta$ is given by $[0.01,10]\\times[0,10000]\\times [0,1]$. \n",
    "Using the formulas for $f_\\theta$, we observe that $f_\\theta$ can be extended to the closure. \n",
    "In particular, the likelihood function corresponding to the statistical model admits a continuous extension to the closure.\n",
    "Thus, this extension attains its maxima.\n",
    "Assuming the maximum is not at the boundary $\\{0.01,1\\}\\times\\{0,10000\\}\\times\\{0,1\\}$, we conclude the MLE to exist. \n",
    "\n",
    "The maximum likelihood estimate for $\\theta$ of the experimental output $(y_{i,j})_{i=1,...,5,j=0,...,5}$ is given by the least square error estimate\n",
    "\n",
    "$$\\underset{\\theta}{argmin}\\, \\sum_{i=1}^{5}\\sum_{j=0}^5(y_{i,t}-f_\\theta(T_i,SoC_i,t_j))^2.$$"
   ]
  },
  {
   "cell_type": "code",
   "execution_count": null,
   "id": "a0bc2515",
   "metadata": {
    "ExecuteTime": {
     "end_time": "2022-07-21T16:17:16.263532Z",
     "start_time": "2022-07-21T16:17:16.106458Z"
    }
   },
   "outputs": [],
   "source": [
    "initial_theta = statistical_model.calculate_maximum_likelihood_estimation(\n",
    "    x0=LH.experiment, y=evaluation_initial_design, minimizer=minimizer)\n",
    "\n",
    "print(\"The resulting initial parameter estimate is then given by  \\n\",\n",
    "      initial_theta)\n",
    "print(\"(Reminder) The real theta is \\n\", theta)"
   ]
  },
  {
   "cell_type": "markdown",
   "id": "714f9e74",
   "metadata": {},
   "source": [
    "Note that this parameter estimate is non-deterministic.\n",
    "Bootstrapping with $N_{rep}=1000$ fold resampling within our 30-dimensional sample space allows us to quantify the statistical distribution of the parameter estimator.\n"
   ]
  },
  {
   "cell_type": "code",
   "execution_count": null,
   "id": "b2a09965",
   "metadata": {
    "ExecuteTime": {
     "end_time": "2022-07-21T16:17:16.266478Z",
     "start_time": "2022-07-21T16:17:16.264525Z"
    }
   },
   "outputs": [],
   "source": [
    "number_of_evaluations = 1000"
   ]
  },
  {
   "cell_type": "code",
   "execution_count": null,
   "id": "969aba47",
   "metadata": {
    "ExecuteTime": {
     "end_time": "2022-07-21T16:19:43.652573Z",
     "start_time": "2022-07-21T16:17:16.267506Z"
    }
   },
   "outputs": [],
   "source": [
    "experiments = [LH]\n",
    "\n",
    "benchmarking_LH = Benchmarking(blackbox_model=blackbox_model,\n",
    "                               statistical_model=statistical_model,\n",
    "                               experiments=experiments)\n",
    "\n",
    "benchmarking_LH.evaluate_experiments(number_of_evaluations=number_of_evaluations,\n",
    "                                 minimizer=minimizer)"
   ]
  },
  {
   "cell_type": "markdown",
   "id": "a4d4cbab",
   "metadata": {},
   "source": [
    "The below figures show the normalized histograms (blue) of the estimated parameter vector component distributions after initial LH DoE as obtained via bootstrapping. The numbers are scaled evenly with the true parameter value as the center and a range of $\\pm 40\\%$ around this value. The probability density function (pdf) of normal distributions with mean values defined by the true parameter values $\\theta_i$ and variances by respective diagonal entries of the CRLB is shown in red within the according sub-figures. Note that bootstrapping is not part of the regular workflow but serves as additional validation in this particular example."
   ]
  },
  {
   "cell_type": "code",
   "execution_count": null,
   "id": "9f67da48",
   "metadata": {
    "ExecuteTime": {
     "end_time": "2022-07-21T16:20:05.821987Z",
     "start_time": "2022-07-21T16:19:43.653603Z"
    },
    "code_folding": []
   },
   "outputs": [],
   "source": [
    "MLEs_LH_experiment = benchmarking_LH.maximum_likelihood_estimations[LH]\n",
    "\n",
    "diagonal_CRLB_LH_experiment = statistical_model.calculate_cramer_rao_lower_bound(\n",
    "    x0=LH.experiment, theta=theta).diagonal()\n",
    "\n",
    "for index in range(3):\n",
    "    data = [\n",
    "        go.Histogram(\n",
    "            x=MLEs_LH_experiment.T[index].T,\n",
    "            histnorm='probability density',\n",
    "            name=\"MLE\",\n",
    "        )\n",
    "    ]\n",
    "    fig = styled_figure_latex(data=data,\n",
    "                              title_x=fr\"$\\theta_{index}$\",\n",
    "                              title_y=r\"$\\rho$\")\n",
    "\n",
    "    fig.add_trace(\n",
    "        normal_distribution(x_range=np.arange(0.6 * theta[index],\n",
    "                                              1.4 * theta[index], 0.001),\n",
    "                            mu=theta[index],\n",
    "                            sigma=np.sqrt(diagonal_CRLB_LH_experiment[index]),\n",
    "                            name_dist=\"CRLB\"))\n",
    "    fig.write_image(f\"notebooks/theta{index}_init.png\",\n",
    "                    scale=10,\n",
    "                    engine=\"kaleido\")\n",
    "\n",
    "    fig.show()"
   ]
  },
  {
   "cell_type": "markdown",
   "id": "c439e570",
   "metadata": {},
   "source": [
    "## Model Evaluation"
   ]
  },
  {
   "cell_type": "code",
   "execution_count": null,
   "id": "35bc9a1f",
   "metadata": {
    "ExecuteTime": {
     "end_time": "2022-07-21T16:20:05.905306Z",
     "start_time": "2022-07-21T16:20:05.823117Z"
    }
   },
   "outputs": [],
   "source": [
    "from src.oed.metrics.metric_library.k_fold_cross_validation import KFoldCrossValidation\n",
    "from src.oed.experiments.experiment_library.d_design import DDesign\n",
    "from src.oed.metrics.error_functions.average_error import AverageError"
   ]
  },
  {
   "cell_type": "markdown",
   "id": "6360aaca",
   "metadata": {},
   "source": [
    "To evaluate the predictive ability of the now initially calibrated model, we choose the mean absolute error (MAE) as a performance measure determined by the leave-one-out cross-validation (LOOCV) method. This indicator is suitable for situations where only little data is available. \n"
   ]
  },
  {
   "cell_type": "code",
   "execution_count": null,
   "id": "7b735175",
   "metadata": {
    "ExecuteTime": {
     "end_time": "2022-07-21T16:20:06.582527Z",
     "start_time": "2022-07-21T16:20:05.906144Z"
    }
   },
   "outputs": [],
   "source": [
    "k_fold_validation = KFoldCrossValidation(statistical_model=statistical_model,\n",
    "                                         minimizer=minimizer,\n",
    "                                         error_function=AverageError(),\n",
    "                                         number_splits=number_designs)\n",
    "\n",
    "initial_cross_validation_value = k_fold_validation.calculate(\n",
    "    experiment=LH, evaluations_blackbox_function=evaluation_initial_design)\n",
    "\n",
    "print(\n",
    "    f\"The initial 5-fold cross-validation error is {initial_cross_validation_value[0]}\"\n",
    ")"
   ]
  },
  {
   "cell_type": "markdown",
   "id": "9e008e38",
   "metadata": {},
   "source": [
    "Observe this error to be in the range of the known measurement error $\\sigma=0.002$.\n",
    "\n",
    "The determinant of the FIM corresponding to \n",
    "\n",
    "$$(\\mathbb{R}^{30},\\mathcal{B}^{30},\\mathcal{N}((f_\\theta(T_i,SoC_i,t_i)_{i=1,...,30},\\sigma^2\\mathbb{1}_{30}))$$\n",
    "\n",
    "is given by the below.\n"
   ]
  },
  {
   "cell_type": "code",
   "execution_count": null,
   "id": "4c405967",
   "metadata": {
    "ExecuteTime": {
     "end_time": "2022-07-21T16:20:06.587540Z",
     "start_time": "2022-07-21T16:20:06.583260Z"
    }
   },
   "outputs": [],
   "source": [
    "det_FI = statistical_model.calculate_determinant_fisher_information_matrix(\n",
    "    x0=LH.experiment, theta=initial_theta)\n",
    "print(\n",
    "    f\"The determinant of the Fisher information matrix at the initial theta and design is \\n{det_FI}\"\n",
    ")"
   ]
  },
  {
   "cell_type": "markdown",
   "id": "5725d62e",
   "metadata": {},
   "source": [
    "In particular, the FIM $I(\\theta_{init},\\xi_{LH})$ is invertible.\n",
    "\n",
    "The CRLB at the initially estimated parameter $\\theta_{init}$ is given by "
   ]
  },
  {
   "cell_type": "code",
   "execution_count": null,
   "id": "e3f9a3c7",
   "metadata": {
    "ExecuteTime": {
     "end_time": "2022-07-21T16:20:06.592340Z",
     "start_time": "2022-07-21T16:20:06.588208Z"
    }
   },
   "outputs": [],
   "source": [
    "print(\n",
    "    \"CRLB of Latin Hypercube experiment at initial theta: \\n\",\n",
    "    statistical_model.calculate_cramer_rao_lower_bound(x0=LH.experiment,\n",
    "                                                       theta=initial_theta))"
   ]
  },
  {
   "cell_type": "markdown",
   "id": "337739f2",
   "metadata": {},
   "source": [
    "quantifying the relative expected standard deviation $\\sigma_{rel,i}$\n",
    "for each parameter component $\\theta_{init,i}$ with respect to the initial parameter estimate $\\theta_{init}$."
   ]
  },
  {
   "cell_type": "code",
   "execution_count": null,
   "id": "6ea5e03f",
   "metadata": {
    "ExecuteTime": {
     "end_time": "2022-07-21T16:20:06.596973Z",
     "start_time": "2022-07-21T16:20:06.593110Z"
    },
    "code_folding": []
   },
   "outputs": [],
   "source": [
    "print(\n",
    "    'The relative expected standard deviations of the parameter estimators are \\n',\n",
    "    np.sqrt(\n",
    "        statistical_model.calculate_cramer_rao_lower_bound(\n",
    "            x0=LH.experiment, theta=initial_theta).diagonal()) / initial_theta)"
   ]
  },
  {
   "cell_type": "markdown",
   "id": "d71a2d3c",
   "metadata": {},
   "source": [
    "## Prediction quality satisfactory?"
   ]
  },
  {
   "cell_type": "markdown",
   "id": "d0bbe2a5",
   "metadata": {},
   "source": [
    "In our example, we request a relative expected standard deviation below five percent (i.e. confidence level). \n",
    "According "
   ]
  },
  {
   "cell_type": "code",
   "execution_count": null,
   "id": "3536fa72",
   "metadata": {
    "ExecuteTime": {
     "end_time": "2022-07-21T16:20:06.611787Z",
     "start_time": "2022-07-21T16:20:06.597739Z"
    },
    "scrolled": false
   },
   "outputs": [],
   "source": [
    "initial_relative_stds = np.sqrt(\n",
    "    statistical_model.calculate_cramer_rao_lower_bound(\n",
    "        x0=LH.experiment, theta=initial_theta).diagonal()) / initial_theta\n",
    "\n",
    "styled_figure(\n",
    "    data=[\n",
    "        go.Bar(x=[r\"$\\theta_{0}$\", r\"$\\theta_{1}$\", r\"$\\theta_{2}$\"],\n",
    "               y=initial_relative_stds,\n",
    "               name=\"initial relative standrad deviations\")\n",
    "    ],\n",
    "    title=\"Relative standard deviation of initial design for each parameter\")"
   ]
  },
  {
   "cell_type": "markdown",
   "id": "f2050960",
   "metadata": {},
   "source": [
    "we accept estimation of $\\theta_1$ and $\\theta_2$ while refusing quality of $\\theta_0$.   \n",
    "\n",
    "However, even at this point we recognize the LOOCV error to be in the range of the measurement error. This reflects a suitable choice of the underlying statistical model (i.e. the aging model).\n",
    "This is not surprising since the underlying simulation of experiments is given by $f_\\theta$."
   ]
  },
  {
   "cell_type": "markdown",
   "id": "f8aaf214",
   "metadata": {},
   "source": [
    "## pi-OED DoE"
   ]
  },
  {
   "cell_type": "markdown",
   "id": "fb769dc6",
   "metadata": {},
   "source": [
    "Up to this point, we have given the experiment $\\xi_{LH}$ with its experimental results $(y_1,...,y_{5})$ and estimated the initial parameter $\\theta_{init}$ from it. To reduce the uncertainty of the estimation of the first parameter component $\\theta_0$, we conduct the pi-OED calculation with five new experimental designs $x_{6},...,x_{10}$ granted. This corresponds to finding a global solution of the minimization problem\n",
    "\n",
    "$$\\underset{x_{6},...,x_{10}}{argmin}\\, I^{-1}(\\hat{\\theta},( x_{1},...,x_{10}))_{11}.$$"
   ]
  },
  {
   "metadata": {},
   "cell_type": "code",
   "outputs": [],
   "execution_count": null,
   "source": "from src.oed.experiments.experiment_library.pi_design import PiDesign\n",
   "id": "a04a9c75ee32a2de"
  },
  {
   "cell_type": "code",
   "execution_count": null,
   "id": "4f556da5",
   "metadata": {
    "ExecuteTime": {
     "end_time": "2022-07-21T16:23:02.606311Z",
     "start_time": "2022-07-21T16:20:06.612600Z"
    }
   },
   "outputs": [],
   "source": [
    "parameter = 0\n",
    "pi_design = PiDesign(number_designs=number_designs,\n",
    "                     lower_bounds_design=lower_bounds_x,\n",
    "                     upper_bounds_design=upper_bounds_x,\n",
    "                     index=parameter,\n",
    "                     initial_theta=initial_theta,\n",
    "                     statistical_model=statistical_model,\n",
    "                     previous_experiment=LH,\n",
    "                     minimizer=minimizer)"
   ]
  },
  {
   "cell_type": "markdown",
   "id": "32ee4d73",
   "metadata": {},
   "source": [
    "The below figure shows the resulting new pi-OED experimental plan for designs $\\xi_{pi}=(x_{6},...,x_{10})$. Number of repetitions is indicated within the graph."
   ]
  },
  {
   "cell_type": "code",
   "execution_count": null,
   "id": "d19d40bd",
   "metadata": {
    "ExecuteTime": {
     "end_time": "2022-07-21T16:23:02.630998Z",
     "start_time": "2022-07-21T16:23:02.607820Z"
    }
   },
   "outputs": [],
   "source": [
    "rounded_pi_design = np.round(pi_design.experiment[number_designs:], decimals=2)\n",
    "\n",
    "data = [\n",
    "    dot_scatter(x_dots=rounded_pi_design.T[0] * 100,\n",
    "                y_dots=rounded_pi_design.T[1],\n",
    "                fill=None)\n",
    "]\n",
    "\n",
    "fig = styled_figure(title=pi_design.name,\n",
    "                    data=data,\n",
    "                    title_x=\"State of charge [%]\",\n",
    "                    title_y=\"Temperature [K]\")\n",
    "\n",
    "unique_pi_values = np.unique(rounded_pi_design, axis=0, return_counts=True)\n",
    "\n",
    "for i, _ in enumerate(unique_pi_values):\n",
    "    fig.add_annotation(\n",
    "        x=unique_pi_values[0].T[0][i] * 100,\n",
    "        y=unique_pi_values[0].T[1][i],\n",
    "        text=str(unique_pi_values[1][i]) + \"-times\",\n",
    "        yshift=10,\n",
    "        xshift=-4,\n",
    "    )\n",
    "\n",
    "fig"
   ]
  },
  {
   "cell_type": "markdown",
   "id": "5b5715c3",
   "metadata": {},
   "source": [
    "Adding the pi-OED calculated new experiment $\\xi_{pi}=(x_{6},...,x_{10})$ to the already existing $\\xi_{LH}$, the new CRLB calculated at $\\theta_{init}$ is then given by"
   ]
  },
  {
   "cell_type": "code",
   "execution_count": null,
   "id": "418d482a",
   "metadata": {
    "ExecuteTime": {
     "end_time": "2022-07-21T16:23:02.637812Z",
     "start_time": "2022-07-21T16:23:02.632058Z"
    }
   },
   "outputs": [],
   "source": [
    "print(\n",
    "    \"CRLB of pi-experiment at initial theta: \\n\",\n",
    "    statistical_model.calculate_cramer_rao_lower_bound(x0=pi_design.experiment,\n",
    "                                                       theta=initial_theta))"
   ]
  },
  {
   "cell_type": "markdown",
   "id": "2686f1be",
   "metadata": {},
   "source": [
    "This approximates the expected relative standard deviations (prior executing the new experimental designs)."
   ]
  },
  {
   "cell_type": "code",
   "execution_count": null,
   "id": "c2d42eee",
   "metadata": {
    "ExecuteTime": {
     "end_time": "2022-07-21T16:23:02.644687Z",
     "start_time": "2022-07-21T16:23:02.638718Z"
    }
   },
   "outputs": [],
   "source": [
    "optimized_relative_stds = np.sqrt(\n",
    "    statistical_model.calculate_cramer_rao_lower_bound(\n",
    "        x0=pi_design.experiment, theta=initial_theta).diagonal()) / initial_theta\n",
    "\n",
    "print(\"approximates relative standard deviations: \\n\", optimized_relative_stds)"
   ]
  },
  {
   "cell_type": "markdown",
   "id": "fd9e22b7",
   "metadata": {},
   "source": [
    "The below bar chart shows the expected relative standard deviation at the initial theta of the initial (LH) experiments (blue) and the pi-experiment (red) indicating the decrease of the parameter estimations uncertainty in the respective parameter. "
   ]
  },
  {
   "cell_type": "code",
   "execution_count": null,
   "id": "0c4be109",
   "metadata": {
    "ExecuteTime": {
     "end_time": "2022-07-21T16:23:02.655316Z",
     "start_time": "2022-07-21T16:23:02.645660Z"
    }
   },
   "outputs": [],
   "source": [
    "styled_figure(\n",
    "    data=[\n",
    "        go.Bar(x=[r\"$\\theta_{0}$\", r\"$\\theta_{1}$\", r\"$\\theta_{2}$\"],\n",
    "               y=initial_relative_stds,\n",
    "               name=\"initial relative standrad deviations\"),\n",
    "        go.Bar(x=[r\"$\\theta_{0}$\", r\"$\\theta_{1}$\", r\"$\\theta_{2}$\"],\n",
    "               y=optimized_relative_stds,\n",
    "               name=\"optimized relative standard deviations\")\n",
    "    ],\n",
    "    title=\"Relative standard deviations of initial and optimized design for each parameter\"\n",
    ")"
   ]
  },
  {
   "cell_type": "markdown",
   "id": "97de28f5",
   "metadata": {},
   "source": [
    "## $2^{nd}$ run of  experiment and model calibration"
   ]
  },
  {
   "cell_type": "markdown",
   "id": "2f37ac3c",
   "metadata": {},
   "source": [
    "After execution of the above calculated pi-OED experiment with $5$ experimental designs (yielding $5$ times $6$ additional data points), the corresponding statistical model reflecting the joint experiments of LH-DoE and pi-OED $\\xi=(x_1,...,x_{10})$ is given by\n",
    "\n",
    "$$(\\mathbb{R}^{60},\\mathcal{B}^{60},\\mathcal{N}((f_\\theta(T_i,SoC_i,t_j)_{i=1,...,10,j=0,...,5},\\sigma^2\\mathbb{1}_{60})).$$\n",
    "\n",
    "We argue by analogy with step 4) that its MLE exists.\n",
    "\n",
    "Calculating the maximum likelihood estimation yields the optimized parameter estimation\n",
    "\n",
    "\\begin{align*}\n",
    "    \\theta_{opt} &= \\underset{\\theta}{argmin}\\, \\sum_{i=1}^{10}\\sum_{j=0 }^5(y_{i,j}-f_\\theta(T_i,SoC_i,t))^2.\n",
    "\\end{align*}"
   ]
  },
  {
   "cell_type": "code",
   "execution_count": null,
   "id": "0e4bc115",
   "metadata": {
    "ExecuteTime": {
     "end_time": "2022-07-21T16:23:02.658765Z",
     "start_time": "2022-07-21T16:23:02.656495Z"
    }
   },
   "outputs": [],
   "source": [
    "evaluation_pi_design = np.array(\n",
    "    [blackbox_model(x) for x in pi_design.experiment[number_designs:]])"
   ]
  },
  {
   "cell_type": "code",
   "execution_count": null,
   "id": "b3e43617",
   "metadata": {
    "ExecuteTime": {
     "end_time": "2022-07-21T16:23:02.891632Z",
     "start_time": "2022-07-21T16:23:02.659840Z"
    }
   },
   "outputs": [],
   "source": [
    "optimized_theta = statistical_model.calculate_maximum_likelihood_estimation(\n",
    "    x0=pi_design.experiment,\n",
    "    y=np.concatenate((evaluation_initial_design, evaluation_pi_design),\n",
    "                     axis=0),\n",
    "    minimizer=minimizer)"
   ]
  },
  {
   "cell_type": "code",
   "execution_count": null,
   "id": "895fa8b1",
   "metadata": {
    "ExecuteTime": {
     "end_time": "2022-07-21T16:23:02.895168Z",
     "start_time": "2022-07-21T16:23:02.892614Z"
    }
   },
   "outputs": [],
   "source": [
    "print(\"optimized theta: \\n\", optimized_theta)"
   ]
  },
  {
   "cell_type": "markdown",
   "id": "bfb781d7",
   "metadata": {},
   "source": [
    "Again, bootstrapping with $N_{rep}=1000$ fold resampling within our (now 60-dimensional) sample space allows us to quantify the statistical distribution of our parameter estimator.\n",
    "Resulting histograms of the parameter estimations are shown in the last chapter."
   ]
  },
  {
   "cell_type": "markdown",
   "id": "2c4d3f6c",
   "metadata": {},
   "source": [
    "## $2^{nd}$ model evaluation"
   ]
  },
  {
   "cell_type": "code",
   "execution_count": null,
   "id": "12d4f49f",
   "metadata": {
    "ExecuteTime": {
     "end_time": "2022-07-21T16:23:03.855240Z",
     "start_time": "2022-07-21T16:23:02.896284Z"
    }
   },
   "outputs": [],
   "source": [
    "optimized_cross_validation_value = k_fold_validation.calculate(\n",
    "    experiment=pi_design,\n",
    "    evaluations_blackbox_function=np.concatenate(\n",
    "        (evaluation_initial_design, evaluation_pi_design), axis=0))\n",
    "\n",
    "print('The cross validation value of the optimized design is',\n",
    "      optimized_cross_validation_value[0], \".\")"
   ]
  },
  {
   "cell_type": "markdown",
   "id": "4e372c6f",
   "metadata": {},
   "source": [
    "Observe that this error is again in the range of the known measurement error $\\sigma=0.002$.\n",
    "The determinant of the corresponding FIM at $\\theta_{opt}$ turns out to be greater than zero "
   ]
  },
  {
   "cell_type": "code",
   "execution_count": null,
   "id": "6c3be8f6",
   "metadata": {
    "ExecuteTime": {
     "end_time": "2022-07-21T16:23:03.862473Z",
     "start_time": "2022-07-21T16:23:03.856315Z"
    }
   },
   "outputs": [],
   "source": [
    "det_optimized_FI = statistical_model.calculate_determinant_fisher_information_matrix(\n",
    "    x0=pi_design.experiment, theta=optimized_theta)\n",
    "print(\n",
    "    f\"The determinant of the Fisher information matrix at the optimized theta and design is \\n{det_optimized_FI}\"\n",
    ")"
   ]
  },
  {
   "cell_type": "markdown",
   "id": "4d4748cf",
   "metadata": {},
   "source": [
    "yielding the following CRLB at $\\theta_{opt}$:"
   ]
  },
  {
   "cell_type": "code",
   "execution_count": null,
   "id": "d6fc001a",
   "metadata": {
    "ExecuteTime": {
     "end_time": "2022-07-21T16:23:03.869352Z",
     "start_time": "2022-07-21T16:23:03.863400Z"
    }
   },
   "outputs": [],
   "source": [
    "print(f\"CRLB of pi-experiment at optimized theta: \\n\",\n",
    "      statistical_model.calculate_cramer_rao_lower_bound(x0=pi_design.experiment,\n",
    "                                                         theta=optimized_theta))"
   ]
  },
  {
   "cell_type": "markdown",
   "id": "d3783c81",
   "metadata": {},
   "source": [
    "Accordingly, the relative expected standard deviation\n",
    "for each parameter component $\\theta_{opt,i}$ with respect to the optimized parameter estimate $\\theta_{opt}$ is shown in the below array."
   ]
  },
  {
   "cell_type": "code",
   "execution_count": null,
   "id": "35bb3790",
   "metadata": {
    "ExecuteTime": {
     "end_time": "2022-07-21T16:23:03.876438Z",
     "start_time": "2022-07-21T16:23:03.870263Z"
    }
   },
   "outputs": [],
   "source": [
    "print(\n",
    "    'The relative expected standard deviations of the parameter estimators is now \\n',\n",
    "    np.sqrt(\n",
    "        statistical_model.calculate_cramer_rao_lower_bound(\n",
    "            x0=pi_design.experiment, theta=optimized_theta).diagonal()) /\n",
    "    optimized_theta)"
   ]
  },
  {
   "cell_type": "markdown",
   "id": "e320a5b7",
   "metadata": {},
   "source": [
    "## Prediction quality satisfactory?"
   ]
  },
  {
   "cell_type": "markdown",
   "id": "8f0831b3",
   "metadata": {},
   "source": [
    "Since all approximate relative standard deviations are below five percent, we accept the parameter quality.\n",
    "Since the LOOCV MAE is in the range of the measurement error we accept the model quality and end our experiments."
   ]
  },
  {
   "cell_type": "markdown",
   "id": "3ef83a76",
   "metadata": {},
   "source": [
    "---"
   ]
  },
  {
   "cell_type": "markdown",
   "id": "66a9af99",
   "metadata": {},
   "source": [
    "# Benchmarking"
   ]
  },
  {
   "cell_type": "code",
   "execution_count": null,
   "id": "08138820",
   "metadata": {
    "ExecuteTime": {
     "end_time": "2022-07-21T16:23:03.908609Z",
     "start_time": "2022-07-21T16:23:03.877364Z"
    }
   },
   "outputs": [],
   "source": [
    "from src.oed.experiments.experiment_library.d_design import DDesign\n",
    "from src.oed.experiments.experiment_library.random import Random"
   ]
  },
  {
   "cell_type": "markdown",
   "id": "ac638ff0",
   "metadata": {},
   "source": [
    "In this paper, we claim our proposed pi-OED methodology effectively and efficiently minimizes a chosen individual parameter's variance supporting an unbiased estimator approximating the true model parameter.\n",
    "Our main objects of interest, therefore, are the\n",
    "\n",
    "1. mean of the parameter and\n",
    "2. variance of individual parameter (component)\n",
    "\n",
    "estimations. \n",
    "\n",
    "In addition to the theoretical guarantees, we provide a benchmarking of pi-OED in order to strengthen our claim. Specifically, we compare the (estimated) mean and variances of the above computer experiment with those of three other computer experiments as calculated by\n",
    "\n",
    "1. __Random Sampling__: we draw 10 experimental designs uniformly distributed over $X$.\n"
   ]
  },
  {
   "cell_type": "code",
   "execution_count": null,
   "id": "142a5339",
   "metadata": {
    "ExecuteTime": {
     "end_time": "2022-07-21T16:23:03.911718Z",
     "start_time": "2022-07-21T16:23:03.909625Z"
    }
   },
   "outputs": [],
   "source": [
    "random_design = Random(number_designs=2 * number_designs,\n",
    "                       lower_bounds_design=lower_bounds_x,\n",
    "                       upper_bounds_design=upper_bounds_x)"
   ]
  },
  {
   "cell_type": "markdown",
   "id": "09c05ba7",
   "metadata": {},
   "source": [
    "2. __Latin-Hypercube Sampling__: we calculate a Latin-Hypercube experiment with 10 experimental designs.\n"
   ]
  },
  {
   "cell_type": "code",
   "execution_count": null,
   "id": "91fb9aa1",
   "metadata": {
    "ExecuteTime": {
     "end_time": "2022-07-21T16:23:03.921447Z",
     "start_time": "2022-07-21T16:23:03.918927Z"
    }
   },
   "outputs": [],
   "source": [
    "LH_full = LatinHypercube(lower_bounds_design=lower_bounds_x,\n",
    "                         upper_bounds_design=upper_bounds_x,\n",
    "                         number_designs=2 * number_designs)"
   ]
  },
  {
   "cell_type": "markdown",
   "id": "99cfeed5",
   "metadata": {},
   "source": [
    "3. __D-optimal DoE__: we replace the pi-OED in the above workflow with the D-optimal design of experiment (maximizing the FIM's determinant) proposed by Atkinson and Donev at $\\theta_{init}$ with five experimental designs.\n",
    "\n"
   ]
  },
  {
   "cell_type": "code",
   "execution_count": null,
   "id": "62f3d9c1",
   "metadata": {
    "ExecuteTime": {
     "end_time": "2022-07-21T16:25:56.684268Z",
     "start_time": "2022-07-21T16:23:03.922530Z"
    }
   },
   "outputs": [],
   "source": [
    "max_det = DDesign(number_designs=number_designs,\n",
    "                  lower_bounds_design=lower_bounds_x,\n",
    "                  upper_bounds_design=upper_bounds_x,\n",
    "                  initial_theta=initial_theta,\n",
    "                  statistical_model=statistical_model,\n",
    "                  previous_experiment=LH,\n",
    "                  minimizer=minimizer)"
   ]
  },
  {
   "cell_type": "code",
   "execution_count": null,
   "id": "80480049",
   "metadata": {
    "ExecuteTime": {
     "end_time": "2022-07-21T16:25:56.687202Z",
     "start_time": "2022-07-21T16:25:56.685156Z"
    }
   },
   "outputs": [],
   "source": [
    "experiments = [random_design, LH_full, pi_design, max_det]"
   ]
  },
  {
   "cell_type": "code",
   "execution_count": null,
   "id": "7d2238ee",
   "metadata": {
    "ExecuteTime": {
     "end_time": "2022-07-21T16:25:56.714013Z",
     "start_time": "2022-07-21T16:25:56.687847Z"
    }
   },
   "outputs": [],
   "source": [
    "data = [\n",
    "    dot_scatter(\n",
    "        x_dots=experiment.experiment.T[0] * 100,\n",
    "        y_dots=experiment.experiment.T[1],\n",
    "        fill=None,\n",
    "    ) for experiment in experiments\n",
    "]\n",
    "\n",
    "for trace in data:\n",
    "    trace.visible = False\n",
    "\n",
    "data[0].visible = True\n",
    "\n",
    "fig1 = go.Figure(data=data)\n",
    "\n",
    "fig1 = update_layout_of_graph(fig1,\n",
    "                              title='Design points',\n",
    "                              title_x=\"State of charge [%]\",\n",
    "                              title_y=\"Temperature [K]\")\n",
    "\n",
    "fig1.update_layout(updatemenus=[\n",
    "    dict(buttons=list([\n",
    "        dict(method=\"update\",\n",
    "             label=f\"{experiment.name}\",\n",
    "             args=[{\n",
    "                 \"visible\": [i == j for j, _ in enumerate(fig1.data)]\n",
    "             }]) for i, experiment in enumerate(experiments)\n",
    "    ]),\n",
    "         direction=\"down\",\n",
    "         pad={\n",
    "             \"r\": 10,\n",
    "             \"t\": 10\n",
    "         },\n",
    "         showactive=True,\n",
    "         x=0.1,\n",
    "         xanchor=\"left\",\n",
    "         y=1.1,\n",
    "         yanchor=\"top\"),\n",
    "])\n",
    "\n",
    "fig1.show()"
   ]
  },
  {
   "cell_type": "markdown",
   "id": "a27fc157",
   "metadata": {},
   "source": [
    "For each of the above defined computer experiments, we bootstrap $N=1000$ experimental evaluations to calculate their according parameter estimate $\\hat{\\theta}^j (j=1,...,N)$. "
   ]
  },
  {
   "cell_type": "code",
   "execution_count": null,
   "id": "a08f585f",
   "metadata": {
    "ExecuteTime": {
     "end_time": "2022-07-21T16:25:56.717061Z",
     "start_time": "2022-07-21T16:25:56.715138Z"
    }
   },
   "outputs": [],
   "source": [
    "benchmarking = Benchmarking(blackbox_model=blackbox_model,\n",
    "                            statistical_model=statistical_model,\n",
    "                            experiments=experiments)"
   ]
  },
  {
   "cell_type": "code",
   "execution_count": null,
   "id": "5d79f4e9",
   "metadata": {
    "ExecuteTime": {
     "end_time": "2022-07-21T16:41:21.617620Z",
     "start_time": "2022-07-21T16:25:56.717968Z"
    }
   },
   "outputs": [],
   "source": [
    "benchmarking.evaluate_experiments(number_of_evaluations=number_of_evaluations,\n",
    "                              minimizer=minimizer)"
   ]
  },
  {
   "cell_type": "code",
   "execution_count": null,
   "id": "2da264a3",
   "metadata": {
    "ExecuteTime": {
     "end_time": "2022-07-21T16:41:21.754864Z",
     "start_time": "2022-07-21T16:41:21.618861Z"
    }
   },
   "outputs": [],
   "source": [
    "benchmarking.plot_estimations()"
   ]
  },
  {
   "cell_type": "markdown",
   "id": "7e0e3e6a",
   "metadata": {},
   "source": [
    "We estimate the mean of the parameter estimator by\n",
    "\n",
    "\\begin{align}\n",
    "    M = \\frac{1}{N}\\sum_{j=1}^{N}\\hat{\\theta}^j\n",
    "\\end{align}\n",
    "and the variance of the parameter component estimators $\\hat{\\theta}_i^j$ by\n",
    "\n",
    "\\begin{align}\n",
    "    V_i = \\frac{1}{N-1}\\sum_{j=1}^{N}(M_j-\\hat{\\theta}_i^j)^2\n",
    "\\end{align}\n",
    "for $i=0,1,2$.\n",
    "Note that those are both best unbiased estimators assuming that the underlying distribution is a normal distribution. \n",
    "\n",
    "For each experiment we compare its parameter estimator's\n",
    "1. estimated mean $M$.\n",
    "2. relative deviation from the true parameter value\n",
    "\n",
    "    $$M_{rel,i}=\\frac{M_i-\\theta_{true,i}}{\\theta_{true,i}}$$ in percent.\n",
    "    \n",
    "3. estimated standard deviations $\\sqrt{V_i}.$\n",
    "4. approximate standard deviation at true parameter $\\theta_{true}$ \n",
    "\n",
    "    $$\\hat{\\sigma}_{i}=\\sqrt{I^{-1}(\\theta_{true})_{ii}}.$$\n",
    "    \n",
    "5. relative deviation of approximate standard deviation at true parameter from the estimated standard deviation\n",
    "\n",
    "    $$\\hat{\\sigma}_{rel,i}=\\frac{\\hat{\\sigma}_{i}-\\sqrt{V_j}}{\\sqrt{V_j}}$$ in percent.\n",
    "\n"
   ]
  },
  {
   "cell_type": "code",
   "execution_count": null,
   "id": "f817e152",
   "metadata": {
    "ExecuteTime": {
     "end_time": "2022-07-21T16:41:21.762697Z",
     "start_time": "2022-07-21T16:41:21.755724Z"
    }
   },
   "outputs": [],
   "source": [
    "from src.oed.metrics.metric_library.std_parameter_estimations import StdParameterEstimations\n",
    "from src.oed.metrics.metric_library.determinant_of_fisher_information_matrix import DeterminantOfFisherInformationMatrix\n",
    "from src.oed.metrics.metric_library.estimation_mean_parameter_estimations import EstimationMeanParameterEstimations"
   ]
  },
  {
   "cell_type": "code",
   "execution_count": null,
   "id": "a519a868",
   "metadata": {
    "ExecuteTime": {
     "end_time": "2022-07-21T16:41:21.765324Z",
     "start_time": "2022-07-21T16:41:21.763505Z"
    }
   },
   "outputs": [],
   "source": [
    "estimation_mean_parameter_estimation = EstimationMeanParameterEstimations()"
   ]
  },
  {
   "cell_type": "code",
   "execution_count": null,
   "id": "527753b3",
   "metadata": {
    "ExecuteTime": {
     "end_time": "2022-07-21T16:41:21.769242Z",
     "start_time": "2022-07-21T16:41:21.766289Z"
    }
   },
   "outputs": [],
   "source": [
    "estimated_means = []\n",
    "\n",
    "for experiment in experiments:\n",
    "    estimated_mean = estimation_mean_parameter_estimation.calculate(\n",
    "        estimations_of_parameter=benchmarking.\n",
    "        maximum_likelihood_estimations[experiment], )\n",
    "\n",
    "    estimated_means.append(estimated_mean)\n",
    "\n",
    "estimated_means = np.array(estimated_means)\n",
    "relative_deviation_estimated_means_from_theta = np.round(\n",
    "    (estimated_means - theta) / theta, decimals=3) * 100\n",
    "\n",
    "estimated_means = np.round(estimated_means, decimals=3)"
   ]
  },
  {
   "cell_type": "code",
   "execution_count": null,
   "id": "fe7cf8a5",
   "metadata": {
    "ExecuteTime": {
     "end_time": "2022-07-21T16:41:21.785018Z",
     "start_time": "2022-07-21T16:41:21.770049Z"
    }
   },
   "outputs": [],
   "source": [
    "std_parameter_estimation = StdParameterEstimations()\n",
    "\n",
    "estimated_stds = []\n",
    "relative_deviation_of_approximate_std_from_estimated_std = []\n",
    "approximate_std_at_true_parameter = []\n",
    "for experiment in experiments:\n",
    "    estimated_std = std_parameter_estimation.calculate(\n",
    "        estimations_of_parameter=benchmarking.\n",
    "        maximum_likelihood_estimations[experiment])\n",
    "\n",
    "    estimated_stds.append(estimated_std)\n",
    "    diagonal_of_CRLB = statistical_model.calculate_cramer_rao_lower_bound(\n",
    "        x0=experiment.experiment, theta=theta).diagonal()\n",
    "\n",
    "    approximate_std_at_true_parameter.append(np.sqrt(diagonal_of_CRLB))\n",
    "\n",
    "    relative_deviation_of_approximate_std_from_estimated_std.append(\n",
    "        np.round((np.sqrt(diagonal_of_CRLB) - estimated_std) / estimated_std,\n",
    "                 decimals=3) * 100)\n",
    "\n",
    "estimated_stds = np.round(np.array(estimated_stds), decimals=3)\n",
    "relative_deviation_of_approximate_std_from_estimated_std = np.array(\n",
    "    relative_deviation_of_approximate_std_from_estimated_std)\n",
    "\n",
    "approximate_std_at_true_parameter = np.round(\n",
    "    np.array(approximate_std_at_true_parameter), decimals=3)"
   ]
  },
  {
   "cell_type": "markdown",
   "id": "988cb195",
   "metadata": {},
   "source": [
    "The results are shown in the below data frame.\n",
    "Recall the true parameter to be $\\theta_{true}=(4,2300,0.8)$. "
   ]
  },
  {
   "cell_type": "code",
   "execution_count": null,
   "id": "6c763fbd",
   "metadata": {
    "ExecuteTime": {
     "end_time": "2022-07-21T16:41:21.814838Z",
     "start_time": "2022-07-21T16:41:21.785954Z"
    }
   },
   "outputs": [],
   "source": [
    "data = []\n",
    "\n",
    "index = [experiment.name for experiment in experiments]\n",
    "\n",
    "columns = pd.MultiIndex.from_product([[f\"i={i}\" for i in range(3)],\n",
    "                                      [\n",
    "                                          \"M_i\",\n",
    "                                          \"M_{rel,i}\",\n",
    "                                          \"\\sqrt{V_i}\",\n",
    "                                          \"\\theta_{i}\",\n",
    "                                          \"\\theta_{rel,i}\",\n",
    "]])\n",
    "\n",
    "for parameter_index, _ in enumerate(theta):\n",
    "    data = data + [\n",
    "        estimated_means.T[parameter_index],\n",
    "        relative_deviation_estimated_means_from_theta.T[parameter_index],\n",
    "        estimated_stds.T[parameter_index],\n",
    "        approximate_std_at_true_parameter.T[parameter_index],\n",
    "        relative_deviation_of_approximate_std_from_estimated_std.\n",
    "        T[parameter_index],\n",
    "    ]\n",
    "\n",
    "data = np.array(data).T\n",
    "\n",
    "benchmark_table = pd.DataFrame(\n",
    "    data=data,\n",
    "    index=index,\n",
    "    columns=columns,\n",
    ")\n",
    "benchmark_table"
   ]
  },
  {
   "cell_type": "markdown",
   "id": "bf584acf",
   "metadata": {},
   "source": [
    "Below the estimated mean $M_i$ (red) and the real parameter $\\theta_i$ (blue) are plotted for all parameters."
   ]
  },
  {
   "cell_type": "code",
   "execution_count": null,
   "id": "cc0cce74",
   "metadata": {
    "ExecuteTime": {
     "end_time": "2022-07-21T16:41:21.830263Z",
     "start_time": "2022-07-21T16:41:21.815877Z"
    }
   },
   "outputs": [],
   "source": [
    "estimation_mean_parameter_estimation.plot(\n",
    "    evaluations_blackbox_function_for_each_experiment=benchmarking.\n",
    "    evaluations_blackbox_function,\n",
    "    estimations_of_parameter_for_each_experiment=benchmarking.\n",
    "    maximum_likelihood_estimations,\n",
    "    baseline=theta,\n",
    ")"
   ]
  },
  {
   "cell_type": "markdown",
   "id": "e6eb8b4d",
   "metadata": {},
   "source": [
    "Below the estimated standard deviation $\\sqrt{V_i}$ (red) and $\\hat{\\sigma}_{i}=\\sqrt{I^{-1}(\\theta_{true})_{ii}}$ (blue) are plotted for all parameters."
   ]
  },
  {
   "cell_type": "code",
   "execution_count": null,
   "id": "5d3859eb",
   "metadata": {
    "ExecuteTime": {
     "end_time": "2022-07-21T16:41:21.856579Z",
     "start_time": "2022-07-21T16:41:21.831441Z"
    }
   },
   "outputs": [],
   "source": [
    "baseline = np.sqrt(\n",
    "    np.array([\n",
    "        statistical_model.calculate_cramer_rao_lower_bound(\n",
    "            x0=experiment.experiment, theta=theta).diagonal() for experiment in experiments\n",
    "    ]).T)\n",
    "\n",
    "std_parameter_estimation.plot(\n",
    "    evaluations_blackbox_function_for_each_experiment=benchmarking.evaluations_blackbox_function,\n",
    "    estimations_of_parameter_for_each_experiment=benchmarking.maximum_likelihood_estimations,\n",
    "    baseline=baseline,\n",
    ")"
   ]
  },
  {
   "cell_type": "markdown",
   "id": "3619fd0c",
   "metadata": {},
   "source": [
    "Furthermore, we plot the determinants of the FIM of the respective experiments (red). The blue line symbolizes the highest determinant."
   ]
  },
  {
   "cell_type": "code",
   "execution_count": null,
   "id": "c905e857",
   "metadata": {
    "ExecuteTime": {
     "end_time": "2022-07-21T16:41:21.880775Z",
     "start_time": "2022-07-21T16:41:21.857580Z"
    }
   },
   "outputs": [],
   "source": [
    "det_metric = DeterminantOfFisherInformationMatrix(\n",
    "    theta=theta, statistical_model=statistical_model)\n",
    "\n",
    "fig = det_metric.plot(\n",
    "    evaluations_blackbox_function_for_each_experiment=benchmarking.evaluations_blackbox_function,\n",
    "    estimations_of_parameter_for_each_experiment=benchmarking.maximum_likelihood_estimations,\n",
    "    baseline=\"max\",\n",
    ")\n",
    "fig.show()"
   ]
  },
  {
   "cell_type": "markdown",
   "id": "acced782",
   "metadata": {},
   "source": [
    "## Histograms of the estimated parameter vector component distributions"
   ]
  },
  {
   "cell_type": "code",
   "execution_count": null,
   "id": "310a21f9",
   "metadata": {
    "ExecuteTime": {
     "end_time": "2022-07-21T16:41:21.887463Z",
     "start_time": "2022-07-21T16:41:21.881866Z"
    }
   },
   "outputs": [],
   "source": [
    "MLEs_pi_experiment = benchmarking.maximum_likelihood_estimations[pi_design]\n",
    "\n",
    "diagonal_CRLB_pi_experiment = statistical_model.calculate_cramer_rao_lower_bound(\n",
    "    x0=pi_design.experiment, theta=theta).diagonal()"
   ]
  },
  {
   "cell_type": "code",
   "execution_count": null,
   "id": "7793c489",
   "metadata": {
    "ExecuteTime": {
     "end_time": "2022-07-21T16:41:27.526469Z",
     "start_time": "2022-07-21T16:41:21.888255Z"
    },
    "scrolled": true
   },
   "outputs": [],
   "source": [
    "for index in range(3):\n",
    "    data = [\n",
    "        go.Histogram(\n",
    "            x=MLEs_pi_experiment.T[index].T,\n",
    "            histnorm='probability density',\n",
    "            name=\"MLE\",\n",
    "        )\n",
    "    ]\n",
    "    fig = styled_figure_latex(data=data,\n",
    "                              title_x=fr\"$\\theta_{index}$\",\n",
    "                              title_y=r\"$\\rho$\")\n",
    "\n",
    "    fig.add_trace(\n",
    "        normal_distribution(x_range=np.arange(0.6 * theta[index],\n",
    "                                              1.4 * theta[index], 0.005),\n",
    "                            mu=theta[index],\n",
    "                            sigma=np.sqrt(diagonal_CRLB_pi_experiment[index]),\n",
    "                            name_dist=\"CRLB\"))\n",
    "    fig.write_image(\n",
    "        f\"notebooks/theta{index}_optimized.png\", scale=10, engine=\"kaleido\")\n",
    "    fig.show()"
   ]
  },
  {
   "cell_type": "code",
   "execution_count": null,
   "id": "c3656603",
   "metadata": {
    "ExecuteTime": {
     "end_time": "2022-07-21T16:41:27.544367Z",
     "start_time": "2022-07-21T16:41:27.527374Z"
    }
   },
   "outputs": [],
   "source": [
    "print(benchmark_table.to_latex())"
   ]
  }
 ],
 "metadata": {
  "kernelspec": {
   "display_name": "Python 3 (ipykernel)",
   "language": "python",
   "name": "python3"
  },
  "language_info": {
   "codemirror_mode": {
    "name": "ipython",
    "version": 3
   },
   "file_extension": ".py",
   "mimetype": "text/x-python",
   "name": "python",
   "nbconvert_exporter": "python",
   "pygments_lexer": "ipython3",
   "version": "3.9.7"
  },
  "toc": {
   "base_numbering": 1,
   "nav_menu": {},
   "number_sections": true,
   "sideBar": true,
   "skip_h1_title": false,
   "title_cell": "Table of Contents",
   "title_sidebar": "Contents",
   "toc_cell": false,
   "toc_position": {
    "height": "calc(100% - 180px)",
    "left": "10px",
    "top": "150px",
    "width": "302.1875px"
   },
   "toc_section_display": true,
   "toc_window_display": true
  },
  "varInspector": {
   "cols": {
    "lenName": 16,
    "lenType": 16,
    "lenVar": 40
   },
   "kernels_config": {
    "python": {
     "delete_cmd_postfix": "",
     "delete_cmd_prefix": "del ",
     "library": "var_list.py",
     "varRefreshCmd": "print(var_dic_list())"
    },
    "r": {
     "delete_cmd_postfix": ") ",
     "delete_cmd_prefix": "rm(",
     "library": "var_list.r",
     "varRefreshCmd": "cat(var_dic_list()) "
    }
   },
   "types_to_exclude": [
    "module",
    "function",
    "builtin_function_or_method",
    "instance",
    "_Feature"
   ],
   "window_display": false
  }
 },
 "nbformat": 4,
 "nbformat_minor": 5
}
